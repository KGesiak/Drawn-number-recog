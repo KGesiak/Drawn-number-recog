{
 "cells": [
  {
   "cell_type": "code",
   "execution_count": 1,
   "id": "1c2abc29",
   "metadata": {},
   "outputs": [
    {
     "name": "stderr",
     "output_type": "stream",
     "text": [
      "C:\\Users\\kgesiak\\Anaconda3\\envs\\OCR\\lib\\site-packages\\tensorflow\\python\\framework\\dtypes.py:516: FutureWarning: Passing (type, 1) or '1type' as a synonym of type is deprecated; in a future version of numpy, it will be understood as (type, (1,)) / '(1,)type'.\n",
      "  _np_qint8 = np.dtype([(\"qint8\", np.int8, 1)])\n",
      "C:\\Users\\kgesiak\\Anaconda3\\envs\\OCR\\lib\\site-packages\\tensorflow\\python\\framework\\dtypes.py:517: FutureWarning: Passing (type, 1) or '1type' as a synonym of type is deprecated; in a future version of numpy, it will be understood as (type, (1,)) / '(1,)type'.\n",
      "  _np_quint8 = np.dtype([(\"quint8\", np.uint8, 1)])\n",
      "C:\\Users\\kgesiak\\Anaconda3\\envs\\OCR\\lib\\site-packages\\tensorflow\\python\\framework\\dtypes.py:518: FutureWarning: Passing (type, 1) or '1type' as a synonym of type is deprecated; in a future version of numpy, it will be understood as (type, (1,)) / '(1,)type'.\n",
      "  _np_qint16 = np.dtype([(\"qint16\", np.int16, 1)])\n",
      "C:\\Users\\kgesiak\\Anaconda3\\envs\\OCR\\lib\\site-packages\\tensorflow\\python\\framework\\dtypes.py:519: FutureWarning: Passing (type, 1) or '1type' as a synonym of type is deprecated; in a future version of numpy, it will be understood as (type, (1,)) / '(1,)type'.\n",
      "  _np_quint16 = np.dtype([(\"quint16\", np.uint16, 1)])\n",
      "C:\\Users\\kgesiak\\Anaconda3\\envs\\OCR\\lib\\site-packages\\tensorflow\\python\\framework\\dtypes.py:520: FutureWarning: Passing (type, 1) or '1type' as a synonym of type is deprecated; in a future version of numpy, it will be understood as (type, (1,)) / '(1,)type'.\n",
      "  _np_qint32 = np.dtype([(\"qint32\", np.int32, 1)])\n",
      "C:\\Users\\kgesiak\\Anaconda3\\envs\\OCR\\lib\\site-packages\\tensorflow\\python\\framework\\dtypes.py:525: FutureWarning: Passing (type, 1) or '1type' as a synonym of type is deprecated; in a future version of numpy, it will be understood as (type, (1,)) / '(1,)type'.\n",
      "  np_resource = np.dtype([(\"resource\", np.ubyte, 1)])\n",
      "C:\\Users\\kgesiak\\Anaconda3\\envs\\OCR\\lib\\site-packages\\tensorboard\\compat\\tensorflow_stub\\dtypes.py:541: FutureWarning: Passing (type, 1) or '1type' as a synonym of type is deprecated; in a future version of numpy, it will be understood as (type, (1,)) / '(1,)type'.\n",
      "  _np_qint8 = np.dtype([(\"qint8\", np.int8, 1)])\n",
      "C:\\Users\\kgesiak\\Anaconda3\\envs\\OCR\\lib\\site-packages\\tensorboard\\compat\\tensorflow_stub\\dtypes.py:542: FutureWarning: Passing (type, 1) or '1type' as a synonym of type is deprecated; in a future version of numpy, it will be understood as (type, (1,)) / '(1,)type'.\n",
      "  _np_quint8 = np.dtype([(\"quint8\", np.uint8, 1)])\n",
      "C:\\Users\\kgesiak\\Anaconda3\\envs\\OCR\\lib\\site-packages\\tensorboard\\compat\\tensorflow_stub\\dtypes.py:543: FutureWarning: Passing (type, 1) or '1type' as a synonym of type is deprecated; in a future version of numpy, it will be understood as (type, (1,)) / '(1,)type'.\n",
      "  _np_qint16 = np.dtype([(\"qint16\", np.int16, 1)])\n",
      "C:\\Users\\kgesiak\\Anaconda3\\envs\\OCR\\lib\\site-packages\\tensorboard\\compat\\tensorflow_stub\\dtypes.py:544: FutureWarning: Passing (type, 1) or '1type' as a synonym of type is deprecated; in a future version of numpy, it will be understood as (type, (1,)) / '(1,)type'.\n",
      "  _np_quint16 = np.dtype([(\"quint16\", np.uint16, 1)])\n",
      "C:\\Users\\kgesiak\\Anaconda3\\envs\\OCR\\lib\\site-packages\\tensorboard\\compat\\tensorflow_stub\\dtypes.py:545: FutureWarning: Passing (type, 1) or '1type' as a synonym of type is deprecated; in a future version of numpy, it will be understood as (type, (1,)) / '(1,)type'.\n",
      "  _np_qint32 = np.dtype([(\"qint32\", np.int32, 1)])\n",
      "C:\\Users\\kgesiak\\Anaconda3\\envs\\OCR\\lib\\site-packages\\tensorboard\\compat\\tensorflow_stub\\dtypes.py:550: FutureWarning: Passing (type, 1) or '1type' as a synonym of type is deprecated; in a future version of numpy, it will be understood as (type, (1,)) / '(1,)type'.\n",
      "  np_resource = np.dtype([(\"resource\", np.ubyte, 1)])\n"
     ]
    }
   ],
   "source": [
    "import cv2\n",
    "import numpy as np\n",
    "import matplotlib.pyplot as plt\n",
    "import tensorflow as tf\n",
    "from tkinter import *\n",
    "from PIL import ImageTk, Image\n",
    "from tensorflow.keras import callbacks"
   ]
  },
  {
   "cell_type": "code",
   "execution_count": 2,
   "id": "6df41dfa",
   "metadata": {},
   "outputs": [],
   "source": [
    "mnist = tf.keras.datasets.mnist"
   ]
  },
  {
   "cell_type": "code",
   "execution_count": 3,
   "id": "592aa757",
   "metadata": {},
   "outputs": [],
   "source": [
    "(x_train,y_train),(x_test,y_test) = mnist.load_data()"
   ]
  },
  {
   "cell_type": "code",
   "execution_count": 4,
   "id": "c15c1cdd",
   "metadata": {},
   "outputs": [],
   "source": [
    "x_train = tf.keras.utils.normalize(x_train,axis = 1)\n",
    "x_test = tf.keras.utils.normalize(x_test,axis = 1)"
   ]
  },
  {
   "cell_type": "code",
   "execution_count": 13,
   "id": "3ad3fc70",
   "metadata": {},
   "outputs": [
    {
     "name": "stdout",
     "output_type": "stream",
     "text": [
      "Epoch 1/3\n",
      "59392/60000 [============================>.] - ETA: 0s - loss: 0.2651 - acc: 0.9229- ETA: 0s - loss: 0.2670 - acc: 0.922WARNING:tensorflow:Early stopping conditioned on metric `val_loss` which is not available. Available metrics are: loss,acc\n",
      "60000/60000 [==============================] - 3s 43us/sample - loss: 0.2640 - acc: 0.9232\n",
      "Epoch 2/3\n",
      "59680/60000 [============================>.] - ETA: 0s - loss: 0.1078 - acc: 0.9661- ETA: 0s - loss: 0.1087 - acc:WARNING:tensorflow:Early stopping conditioned on metric `val_loss` which is not available. Available metrics are: loss,acc\n",
      "60000/60000 [==============================] - 3s 43us/sample - loss: 0.1079 - acc: 0.9661\n",
      "Epoch 3/3\n",
      "59712/60000 [============================>.] - ETA: 0s - loss: 0.0738 - acc: 0.9764- ETA: 1s - loss: 0.0729 - acc:  - ETA: 1sWARNING:tensorflow:Early stopping conditioned on metric `val_loss` which is not available. Available metrics are: loss,acc\n",
      "60000/60000 [==============================] - 3s 43us/sample - loss: 0.0740 - acc: 0.9763\n",
      "10000/10000 [==============================] - 0s 24us/sample - loss: 0.0876 - acc: 0.9740\n",
      "0.974\n",
      "0.08761529441140592\n"
     ]
    }
   ],
   "source": [
    "early_stopping = callbacks.EarlyStopping(\n",
    "patience =500,\n",
    "min_delta = 0.0005,\n",
    "    restore_best_weights = True\n",
    "\n",
    ")\n",
    "\n",
    "model = tf.keras.models.Sequential()\n",
    "model.add(tf.keras.layers.Flatten(input_shape=(28,28)))\n",
    "model.add(tf.keras.layers.Dense(units=128, activation = tf.nn.relu))\n",
    "model.add(tf.keras.layers.Dense(units=128, activation = tf.nn.relu))\n",
    "model.add(tf.keras.layers.Dense(units=10, activation = tf.nn.softmax))\n",
    "          \n",
    "model.compile(optimizer = 'adam', loss='sparse_categorical_crossentropy', metrics=['accuracy'])\n",
    "\n",
    "model.fit(x_train,y_train,epochs=3,callbacks=[early_stopping])\n",
    "\n",
    "loss, accuracy = model.evaluate(x_test,y_test)\n",
    "print(accuracy)\n",
    "print(loss)\n",
    "          \n",
    "model.save('digits.model')"
   ]
  },
  {
   "cell_type": "code",
   "execution_count": 38,
   "id": "2eb1ffd2",
   "metadata": {},
   "outputs": [],
   "source": [
    "drawing = False # true if mouse is pressed\n",
    "pt1_x , pt1_y = None , None\n",
    "\n",
    "# mouse callback function\n",
    "def line_drawing(event,x,y,flags,param):\n",
    "    global pt1_x,pt1_y,drawing\n",
    "\n",
    "    if event==cv2.EVENT_LBUTTONDOWN:\n",
    "        drawing=True\n",
    "        pt1_x,pt1_y=x,y\n",
    "\n",
    "    elif event==cv2.EVENT_MOUSEMOVE:\n",
    "        if drawing==True:\n",
    "            cv2.line(img,(pt1_x,pt1_y),(x,y),color=255,thickness=12)\n",
    "            pt1_x,pt1_y=x,y\n",
    "    elif event==cv2.EVENT_LBUTTONUP:\n",
    "        drawing=False\n",
    "        cv2.line(img,(pt1_x,pt1_y),(x,y),color=255,thickness=3)        \n",
    "\n",
    "\n",
    "img = np.zeros((280,280), np.uint8)\n",
    "cv2.namedWindow('Draw a number')\n",
    "cv2.setMouseCallback('Draw a number',line_drawing)\n",
    "\n",
    "while(1):\n",
    "    cv2.imshow('Draw a number',img)\n",
    "    if cv2.waitKey(100) == 27:\n",
    "        break\n",
    "cv2.destroyAllWindows()"
   ]
  },
  {
   "cell_type": "code",
   "execution_count": 39,
   "id": "ef174e57",
   "metadata": {},
   "outputs": [],
   "source": [
    "resized = cv2.resize(img, (28,28),interpolation = cv2.INTER_AREA)\n",
    "resized = resized/255\n",
    "resized = resized.reshape((1,28,28))"
   ]
  },
  {
   "cell_type": "code",
   "execution_count": 40,
   "id": "4cefe9c0",
   "metadata": {},
   "outputs": [
    {
     "name": "stdout",
     "output_type": "stream",
     "text": [
      "Predicted number: 3\n"
     ]
    }
   ],
   "source": [
    "print(\"Predicted number:\",np.argmax(model.predict(resized)))"
   ]
  }
 ],
 "metadata": {
  "kernelspec": {
   "display_name": "Python 3 (ipykernel)",
   "language": "python",
   "name": "python3"
  },
  "language_info": {
   "codemirror_mode": {
    "name": "ipython",
    "version": 3
   },
   "file_extension": ".py",
   "mimetype": "text/x-python",
   "name": "python",
   "nbconvert_exporter": "python",
   "pygments_lexer": "ipython3",
   "version": "3.7.12"
  }
 },
 "nbformat": 4,
 "nbformat_minor": 5
}
